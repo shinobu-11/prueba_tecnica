{
 "cells": [
  {
   "cell_type": "markdown",
   "metadata": {},
   "source": [
    "### Ejercicios Python"
   ]
  },
  {
   "cell_type": "markdown",
   "metadata": {},
   "source": [
    "### Ejercicio 1 "
   ]
  },
  {
   "cell_type": "markdown",
   "metadata": {},
   "source": [
    "- 1.\tCrea un diccionario llamado datos_climaticos donde cada clave es el nombre de una ciudad y el valor es una lista de temperaturas (en grados Celsius) registradas a lo largo de una semana."
   ]
  },
  {
   "cell_type": "code",
   "execution_count": 1,
   "metadata": {},
   "outputs": [],
   "source": [
    "datos_climaticos = {'CDMX':[24,23,24,23,25],'Queretaro':[28,28,27,28,27],'Cancun':[31,32,30,31,32],'Guadalajara':[28,27,26,27,26]}"
   ]
  },
  {
   "cell_type": "code",
   "execution_count": null,
   "metadata": {},
   "outputs": [],
   "source": [
    "# El problema se puede resolver con un ciclo for e iterando el diccionario con la funcion.items().\n",
    "# Pero se opto por pasarlo a dataframe, obreniendo asi mejor manejo de los datos y codigo mas eficiente al evitar los ciclos for ya que \n",
    "# las funciones se pueden aplicar directamente al dataframe ###"
   ]
  },
  {
   "cell_type": "code",
   "execution_count": 2,
   "metadata": {},
   "outputs": [],
   "source": [
    "import pandas as pd \n",
    "df_datos_climaticos = pd.DataFrame(datos_climaticos)"
   ]
  },
  {
   "cell_type": "code",
   "execution_count": 3,
   "metadata": {},
   "outputs": [
    {
     "data": {
      "text/html": [
       "<div>\n",
       "<style scoped>\n",
       "    .dataframe tbody tr th:only-of-type {\n",
       "        vertical-align: middle;\n",
       "    }\n",
       "\n",
       "    .dataframe tbody tr th {\n",
       "        vertical-align: top;\n",
       "    }\n",
       "\n",
       "    .dataframe thead th {\n",
       "        text-align: right;\n",
       "    }\n",
       "</style>\n",
       "<table border=\"1\" class=\"dataframe\">\n",
       "  <thead>\n",
       "    <tr style=\"text-align: right;\">\n",
       "      <th></th>\n",
       "      <th>CDMX</th>\n",
       "      <th>Queretaro</th>\n",
       "      <th>Cancun</th>\n",
       "      <th>Guadalajara</th>\n",
       "    </tr>\n",
       "  </thead>\n",
       "  <tbody>\n",
       "    <tr>\n",
       "      <th>0</th>\n",
       "      <td>24</td>\n",
       "      <td>28</td>\n",
       "      <td>31</td>\n",
       "      <td>28</td>\n",
       "    </tr>\n",
       "    <tr>\n",
       "      <th>1</th>\n",
       "      <td>23</td>\n",
       "      <td>28</td>\n",
       "      <td>32</td>\n",
       "      <td>27</td>\n",
       "    </tr>\n",
       "    <tr>\n",
       "      <th>2</th>\n",
       "      <td>24</td>\n",
       "      <td>27</td>\n",
       "      <td>30</td>\n",
       "      <td>26</td>\n",
       "    </tr>\n",
       "    <tr>\n",
       "      <th>3</th>\n",
       "      <td>23</td>\n",
       "      <td>28</td>\n",
       "      <td>31</td>\n",
       "      <td>27</td>\n",
       "    </tr>\n",
       "    <tr>\n",
       "      <th>4</th>\n",
       "      <td>25</td>\n",
       "      <td>27</td>\n",
       "      <td>32</td>\n",
       "      <td>26</td>\n",
       "    </tr>\n",
       "  </tbody>\n",
       "</table>\n",
       "</div>"
      ],
      "text/plain": [
       "   CDMX  Queretaro  Cancun  Guadalajara\n",
       "0    24         28      31           28\n",
       "1    23         28      32           27\n",
       "2    24         27      30           26\n",
       "3    23         28      31           27\n",
       "4    25         27      32           26"
      ]
     },
     "execution_count": 3,
     "metadata": {},
     "output_type": "execute_result"
    }
   ],
   "source": [
    "df_datos_climaticos.head()"
   ]
  },
  {
   "cell_type": "markdown",
   "metadata": {},
   "source": [
    "2. Para cada ciudad, calcula la temperatura promedio, la temperatura máxima y la mínima de la semana."
   ]
  },
  {
   "cell_type": "code",
   "execution_count": 11,
   "metadata": {},
   "outputs": [],
   "source": [
    "# Temperatura promedio, maxima y minima para cdmx\n",
    "mex_avg_temp = df_datos_climaticos['CDMX'].mean()\n",
    "mex_max_temp = df_datos_climaticos['CDMX'].max()\n",
    "mex_min_temp = df_datos_climaticos['CDMX'].min()\n",
    "\n",
    "# Temperatura promedio, maxima y minima para Queretaro\n",
    "qro_avg_temp = df_datos_climaticos['Queretaro'].mean()\n",
    "qro_max_temp = df_datos_climaticos['Queretaro'].max()\n",
    "qro_min_temp = df_datos_climaticos['Queretaro'].min()\n",
    "\n",
    "#Temperatura promedio, maxima y minima para Cancun\n",
    "cun_avg_temp = df_datos_climaticos['Cancun'].mean()\n",
    "cun_max_temp = df_datos_climaticos['Cancun'].max()\n",
    "cun_min_temp = df_datos_climaticos['Cancun'].min()\n",
    "\n",
    "#Temperatura promedio, maxima, y minima para Guadalajara\n",
    "gdl_avg_temp = df_datos_climaticos['Guadalajara'].mean()\n",
    "gdl_max_temp = df_datos_climaticos['Guadalajara'].max()\n",
    "gdl_min_temp = df_datos_climaticos['Guadalajara'].min()"
   ]
  },
  {
   "cell_type": "code",
   "execution_count": 13,
   "metadata": {},
   "outputs": [
    {
     "name": "stdout",
     "output_type": "stream",
     "text": [
      "------------- Reporte de Temperatura semanal de la CDMX ---------\n",
      "La temperatura promedio de CDMX fue 23.8 °C\n",
      "La maxima temperatura de CDMX fue 25 °C\n",
      "La minima temperatura de CDMX fue 23 °C\n"
     ]
    }
   ],
   "source": [
    "print('------------- Reporte de Temperatura semanal de la CDMX ---------')\n",
    "print('La temperatura promedio de CDMX fue',mex_avg_temp,'°C')\n",
    "print('La maxima temperatura de CDMX fue',mex_max_temp,'°C')\n",
    "print('La minima temperatura de CDMX fue',mex_min_temp,'°C')"
   ]
  },
  {
   "cell_type": "code",
   "execution_count": 14,
   "metadata": {},
   "outputs": [
    {
     "name": "stdout",
     "output_type": "stream",
     "text": [
      "------------- Reporte de Temperatura semanal Queretaro ---------\n",
      "La temperatura promedio de Queretaro fue 27.6 °C\n",
      "La maxima temperatura de Queretaro fue 28 °C\n",
      "La minima temperatura de Queretaro fue 27 °C\n"
     ]
    }
   ],
   "source": [
    "print('------------- Reporte de Temperatura semanal Queretaro ---------')\n",
    "print('La temperatura promedio de Queretaro fue',qro_avg_temp,'°C')\n",
    "print('La maxima temperatura de Queretaro fue',qro_max_temp,'°C')\n",
    "print('La minima temperatura de Queretaro fue',qro_min_temp,'°C')"
   ]
  },
  {
   "cell_type": "code",
   "execution_count": 15,
   "metadata": {},
   "outputs": [
    {
     "name": "stdout",
     "output_type": "stream",
     "text": [
      "------------- Reporte de Temperatura semanal de Cancun ---------\n",
      "La temperatura promedio de Cancun fue 31.2 °C\n",
      "La maxima temperatura de Cancun fue 32 °C\n",
      "La minima temperatura de Cancun fue 30 °C\n"
     ]
    }
   ],
   "source": [
    "print('------------- Reporte de Temperatura semanal de Cancun ---------')\n",
    "print('La temperatura promedio de Cancun fue',cun_avg_temp,'°C')\n",
    "print('La maxima temperatura de Cancun fue',cun_max_temp,'°C')\n",
    "print('La minima temperatura de Cancun fue',cun_min_temp,'°C')"
   ]
  },
  {
   "cell_type": "code",
   "execution_count": 16,
   "metadata": {},
   "outputs": [
    {
     "name": "stdout",
     "output_type": "stream",
     "text": [
      "------------- Reporte de Temperatura semanal de la Guadalajara ---------\n",
      "La temperatura promedio de Guadalajara fue 26.8 °C\n",
      "La maxima temperatura de Guadalajara fue 28 °C\n",
      "La minima temperatura de Guadalajara fue 26 °C\n"
     ]
    }
   ],
   "source": [
    "print('------------- Reporte de Temperatura semanal de la Guadalajara ---------')\n",
    "print('La temperatura promedio de Guadalajara fue',gdl_avg_temp,'°C')\n",
    "print('La maxima temperatura de Guadalajara fue',gdl_max_temp,'°C')\n",
    "print('La minima temperatura de Guadalajara fue',gdl_min_temp,'°C')"
   ]
  },
  {
   "cell_type": "markdown",
   "metadata": {},
   "source": [
    "El ojetivo de pasar el diccionario a dataframe es que con una funcion podemos simplificar todo el trabajo ya realizado. \n",
    "- A continuacion se muestra la funcion demostrando que todos los resultados son los mismos. \n"
   ]
  },
  {
   "cell_type": "code",
   "execution_count": 25,
   "metadata": {},
   "outputs": [
    {
     "data": {
      "text/html": [
       "<div>\n",
       "<style scoped>\n",
       "    .dataframe tbody tr th:only-of-type {\n",
       "        vertical-align: middle;\n",
       "    }\n",
       "\n",
       "    .dataframe tbody tr th {\n",
       "        vertical-align: top;\n",
       "    }\n",
       "\n",
       "    .dataframe thead th {\n",
       "        text-align: right;\n",
       "    }\n",
       "</style>\n",
       "<table border=\"1\" class=\"dataframe\">\n",
       "  <thead>\n",
       "    <tr style=\"text-align: right;\">\n",
       "      <th></th>\n",
       "      <th>CDMX</th>\n",
       "      <th>Queretaro</th>\n",
       "      <th>Cancun</th>\n",
       "      <th>Guadalajara</th>\n",
       "    </tr>\n",
       "  </thead>\n",
       "  <tbody>\n",
       "    <tr>\n",
       "      <th>count</th>\n",
       "      <td>5.00000</td>\n",
       "      <td>5.000000</td>\n",
       "      <td>5.00000</td>\n",
       "      <td>5.00000</td>\n",
       "    </tr>\n",
       "    <tr>\n",
       "      <th>mean</th>\n",
       "      <td>23.80000</td>\n",
       "      <td>27.600000</td>\n",
       "      <td>31.20000</td>\n",
       "      <td>26.80000</td>\n",
       "    </tr>\n",
       "    <tr>\n",
       "      <th>std</th>\n",
       "      <td>0.83666</td>\n",
       "      <td>0.547723</td>\n",
       "      <td>0.83666</td>\n",
       "      <td>0.83666</td>\n",
       "    </tr>\n",
       "    <tr>\n",
       "      <th>min</th>\n",
       "      <td>23.00000</td>\n",
       "      <td>27.000000</td>\n",
       "      <td>30.00000</td>\n",
       "      <td>26.00000</td>\n",
       "    </tr>\n",
       "    <tr>\n",
       "      <th>25%</th>\n",
       "      <td>23.00000</td>\n",
       "      <td>27.000000</td>\n",
       "      <td>31.00000</td>\n",
       "      <td>26.00000</td>\n",
       "    </tr>\n",
       "    <tr>\n",
       "      <th>50%</th>\n",
       "      <td>24.00000</td>\n",
       "      <td>28.000000</td>\n",
       "      <td>31.00000</td>\n",
       "      <td>27.00000</td>\n",
       "    </tr>\n",
       "    <tr>\n",
       "      <th>75%</th>\n",
       "      <td>24.00000</td>\n",
       "      <td>28.000000</td>\n",
       "      <td>32.00000</td>\n",
       "      <td>27.00000</td>\n",
       "    </tr>\n",
       "    <tr>\n",
       "      <th>max</th>\n",
       "      <td>25.00000</td>\n",
       "      <td>28.000000</td>\n",
       "      <td>32.00000</td>\n",
       "      <td>28.00000</td>\n",
       "    </tr>\n",
       "  </tbody>\n",
       "</table>\n",
       "</div>"
      ],
      "text/plain": [
       "           CDMX  Queretaro    Cancun  Guadalajara\n",
       "count   5.00000   5.000000   5.00000      5.00000\n",
       "mean   23.80000  27.600000  31.20000     26.80000\n",
       "std     0.83666   0.547723   0.83666      0.83666\n",
       "min    23.00000  27.000000  30.00000     26.00000\n",
       "25%    23.00000  27.000000  31.00000     26.00000\n",
       "50%    24.00000  28.000000  31.00000     27.00000\n",
       "75%    24.00000  28.000000  32.00000     27.00000\n",
       "max    25.00000  28.000000  32.00000     28.00000"
      ]
     },
     "execution_count": 25,
     "metadata": {},
     "output_type": "execute_result"
    }
   ],
   "source": [
    "df_datos_climaticos.describe()"
   ]
  },
  {
   "cell_type": "markdown",
   "metadata": {},
   "source": [
    "3. Determina cuál fue la ciudad con la temperatura promedio más alta y la más baja durante la semana."
   ]
  },
  {
   "cell_type": "code",
   "execution_count": 20,
   "metadata": {},
   "outputs": [],
   "source": [
    "avg_temps = [mex_avg_temp,qro_avg_temp,cun_avg_temp,gdl_avg_temp]"
   ]
  },
  {
   "cell_type": "code",
   "execution_count": 26,
   "metadata": {},
   "outputs": [
    {
     "name": "stdout",
     "output_type": "stream",
     "text": [
      "La maxima temperatura promedio fue de 31.2 correspondiendo a Cancun\n"
     ]
    }
   ],
   "source": [
    "# Se obtiene la mayor temperatura promedio.\n",
    "max_avg_temp = max(avg_temps)\n",
    "print('La maxima temperatura promedio fue de',max_avg_temp,'correspondiendo a Cancun')"
   ]
  },
  {
   "cell_type": "code",
   "execution_count": 27,
   "metadata": {},
   "outputs": [
    {
     "name": "stdout",
     "output_type": "stream",
     "text": [
      "La minima temperatura promedio fue de 23.8 correspondiendo a CDMX\n"
     ]
    }
   ],
   "source": [
    "# Se obtiene la menor temperatura promedio. \n",
    "min_avg_temp = min(avg_temps)\n",
    "print('La minima temperatura promedio fue de',min_avg_temp,'correspondiendo a CDMX')"
   ]
  },
  {
   "cell_type": "code",
   "execution_count": 28,
   "metadata": {},
   "outputs": [
    {
     "data": {
      "text/html": [
       "<div>\n",
       "<style scoped>\n",
       "    .dataframe tbody tr th:only-of-type {\n",
       "        vertical-align: middle;\n",
       "    }\n",
       "\n",
       "    .dataframe tbody tr th {\n",
       "        vertical-align: top;\n",
       "    }\n",
       "\n",
       "    .dataframe thead th {\n",
       "        text-align: right;\n",
       "    }\n",
       "</style>\n",
       "<table border=\"1\" class=\"dataframe\">\n",
       "  <thead>\n",
       "    <tr style=\"text-align: right;\">\n",
       "      <th></th>\n",
       "      <th>CDMX</th>\n",
       "      <th>Queretaro</th>\n",
       "      <th>Cancun</th>\n",
       "      <th>Guadalajara</th>\n",
       "    </tr>\n",
       "  </thead>\n",
       "  <tbody>\n",
       "    <tr>\n",
       "      <th>count</th>\n",
       "      <td>5.00000</td>\n",
       "      <td>5.000000</td>\n",
       "      <td>5.00000</td>\n",
       "      <td>5.00000</td>\n",
       "    </tr>\n",
       "    <tr>\n",
       "      <th>mean</th>\n",
       "      <td>23.80000</td>\n",
       "      <td>27.600000</td>\n",
       "      <td>31.20000</td>\n",
       "      <td>26.80000</td>\n",
       "    </tr>\n",
       "    <tr>\n",
       "      <th>std</th>\n",
       "      <td>0.83666</td>\n",
       "      <td>0.547723</td>\n",
       "      <td>0.83666</td>\n",
       "      <td>0.83666</td>\n",
       "    </tr>\n",
       "    <tr>\n",
       "      <th>min</th>\n",
       "      <td>23.00000</td>\n",
       "      <td>27.000000</td>\n",
       "      <td>30.00000</td>\n",
       "      <td>26.00000</td>\n",
       "    </tr>\n",
       "    <tr>\n",
       "      <th>25%</th>\n",
       "      <td>23.00000</td>\n",
       "      <td>27.000000</td>\n",
       "      <td>31.00000</td>\n",
       "      <td>26.00000</td>\n",
       "    </tr>\n",
       "    <tr>\n",
       "      <th>50%</th>\n",
       "      <td>24.00000</td>\n",
       "      <td>28.000000</td>\n",
       "      <td>31.00000</td>\n",
       "      <td>27.00000</td>\n",
       "    </tr>\n",
       "    <tr>\n",
       "      <th>75%</th>\n",
       "      <td>24.00000</td>\n",
       "      <td>28.000000</td>\n",
       "      <td>32.00000</td>\n",
       "      <td>27.00000</td>\n",
       "    </tr>\n",
       "    <tr>\n",
       "      <th>max</th>\n",
       "      <td>25.00000</td>\n",
       "      <td>28.000000</td>\n",
       "      <td>32.00000</td>\n",
       "      <td>28.00000</td>\n",
       "    </tr>\n",
       "  </tbody>\n",
       "</table>\n",
       "</div>"
      ],
      "text/plain": [
       "           CDMX  Queretaro    Cancun  Guadalajara\n",
       "count   5.00000   5.000000   5.00000      5.00000\n",
       "mean   23.80000  27.600000  31.20000     26.80000\n",
       "std     0.83666   0.547723   0.83666      0.83666\n",
       "min    23.00000  27.000000  30.00000     26.00000\n",
       "25%    23.00000  27.000000  31.00000     26.00000\n",
       "50%    24.00000  28.000000  31.00000     27.00000\n",
       "75%    24.00000  28.000000  32.00000     27.00000\n",
       "max    25.00000  28.000000  32.00000     28.00000"
      ]
     },
     "execution_count": 28,
     "metadata": {},
     "output_type": "execute_result"
    }
   ],
   "source": [
    "### Se vuelve a invocar la Matriz para corroborar los resultados.\n",
    "df_datos_climaticos.describe()"
   ]
  },
  {
   "cell_type": "markdown",
   "metadata": {},
   "source": [
    "### Ejercicio 2 "
   ]
  },
  {
   "cell_type": "code",
   "execution_count": 2,
   "metadata": {},
   "outputs": [],
   "source": [
    "# Funcion para verificar que el string sea ingresado correctamente\n",
    "def check_string ():\n",
    "    while True:\n",
    "        word = str(input('Ingresa una palabra solamente con minusculas: '))\n",
    "        if word.islower() & word.isalpha():\n",
    "            break\n",
    "        else:\n",
    "            print('Incluiste un numero o mayusculas, Intenta de nuevo')\n",
    "    return word"
   ]
  },
  {
   "cell_type": "code",
   "execution_count": 3,
   "metadata": {},
   "outputs": [],
   "source": [
    "\n",
    "#Funcion para realizar la suma\n",
    "def total_palabra(word):\n",
    "\n",
    "    total = 0\n",
    "    word = list(word)\n",
    "    letter_values = {'a':1,'b':2,'c':3,'d':4,'e':5,\n",
    "                     'f':6,'g':7,'h':8,'i':9,'j':10,\n",
    "                     'k':11,'l':12,'m':13,'n':14,'o':15,\n",
    "                     'p':16,'q':17,'r':18,'s':19,\n",
    "                     't':20,'u':21,'v':22,'w':23,\n",
    "                     'x':24,'y':25,'z':26}\n",
    "    for i in word:\n",
    "        total = total + letter_values.get(i)\n",
    "    \n",
    "    return total"
   ]
  },
  {
   "cell_type": "code",
   "execution_count": null,
   "metadata": {},
   "outputs": [],
   "source": [
    "\"\"\"PRUEBA DE LAS FUNCIONES\"\"\""
   ]
  },
  {
   "cell_type": "code",
   "execution_count": 4,
   "metadata": {},
   "outputs": [],
   "source": [
    "# Se tomara la palabra del ejemplo para verificar el  correcto funcionamiento\n",
    "word = check_string()"
   ]
  },
  {
   "cell_type": "code",
   "execution_count": 13,
   "metadata": {},
   "outputs": [
    {
     "name": "stdout",
     "output_type": "stream",
     "text": [
      "hola\n"
     ]
    }
   ],
   "source": [
    "# Imprimimos el valor de la variable para verificar que la funcion funciona y que el string cumple con las concidiones\n",
    "print(word)"
   ]
  },
  {
   "cell_type": "code",
   "execution_count": 16,
   "metadata": {},
   "outputs": [
    {
     "data": {
      "text/plain": [
       "36"
      ]
     },
     "execution_count": 16,
     "metadata": {},
     "output_type": "execute_result"
    }
   ],
   "source": [
    "# Por ultimo aplicamos la funcion que nos dara la suma\n",
    "total_palabra(word)"
   ]
  },
  {
   "cell_type": "code",
   "execution_count": 5,
   "metadata": {},
   "outputs": [
    {
     "name": "stdout",
     "output_type": "stream",
     "text": [
      "La suma de la palabra hola da un total de 36\n"
     ]
    }
   ],
   "source": [
    "#Comprobando asi que el resultado coincide con el del ejemplo propuesto. \n",
    "print('La suma de la palabra',word,'da un total de',total_palabra(word))"
   ]
  },
  {
   "cell_type": "markdown",
   "metadata": {},
   "source": [
    "### Ejercicio 3"
   ]
  },
  {
   "cell_type": "code",
   "execution_count": 23,
   "metadata": {},
   "outputs": [],
   "source": [
    "import pandas as pd\n",
    "import numpy as np\n",
    "import matplotlib.pyplot as plt\n",
    "import seaborn as sns"
   ]
  },
  {
   "cell_type": "code",
   "execution_count": 33,
   "metadata": {},
   "outputs": [
    {
     "name": "stdout",
     "output_type": "stream",
     "text": [
      "Categoria guardada correctamente\n",
      "Uso guardado correctamente\n",
      "SKU guardado correctamente\n",
      "Porcentaje guardado correctamente\n",
      "Inventario inicial guardado correctamente\n",
      "[Timestamp('2022-04-28 00:00:00'), Timestamp('2024-04-28 00:00:00'), 'audio', 'audifonos', 'SKU-1', 5.2, 0]\n"
     ]
    }
   ],
   "source": [
    "vars = []\n",
    "# fecha inicio\n",
    "fecha_inicio = str(input(\"Escribe la fecha de inicio (YYYY/MM/DD): \"))\n",
    "fecha_inicio = pd.to_datetime(fecha_inicio,yearfirst=True)\n",
    "vars.append(fecha_inicio)\n",
    "# Fecha fin\n",
    "fecha_final = str(input(\"Escribe la fecha final (YY/MM/DD): \"))\n",
    "fecha_final = pd.to_datetime(fecha_final,yearfirst=True)\n",
    "vars.append(fecha_final)\n",
    "\n",
    "# Var categoria\n",
    "while True:\n",
    "    categoria = str(input(\"Escribe la categoria: \"))\n",
    "    if categoria.isalpha():\n",
    "        print(\"Categoria guardada correctamente\")\n",
    "        vars.append(categoria)\n",
    "        break\n",
    "    else:\n",
    "        print(\"Ingresa solamente letras\")\n",
    "\n",
    "# Var uso\n",
    "while True:\n",
    "    uso = str(input(\"Escribe el uso: \"))\n",
    "    if uso.isalpha():\n",
    "        print(\"Uso guardado correctamente\")\n",
    "        vars.append(uso)\n",
    "        break\n",
    "    else:\n",
    "        print(\"Ingresa solamente letras\")\n",
    "\n",
    "# Var SKU\n",
    "while True:\n",
    "  sku = str(input(\"Ingresa el SKU: \"))\n",
    "  if not sku:\n",
    "    print(\"SKU no puede estar vacio\")\n",
    "  else:\n",
    "    print(\"SKU guardado correctamente\")\n",
    "    vars.append(sku)\n",
    "    break\n",
    "\n",
    "# Var percentage\n",
    "while True:\n",
    "  try:\n",
    "    percentage =float(input(\"Ingresa el porcentaje: \"))\n",
    "    if isinstance(percentage,float):\n",
    "      print(\"Porcentaje guardado correctamente\")\n",
    "      vars.append(percentage)\n",
    "      break\n",
    "  except ValueError:\n",
    "    print(\"Ingresa solamente numeros decimales\")\n",
    "\n",
    "# inventario inicial\n",
    "while True:\n",
    "    try:\n",
    "        inventario_inicial = int(input(\"Type the initial inventory: \"))\n",
    "        if isinstance(inventario_inicial,int):\n",
    "            print(\"Inventario inicial guardado correctamente\")\n",
    "            vars.append(inventario_inicial)\n",
    "            break\n",
    "    except ValueError:\n",
    "        print(\"Igresa solamente numeros enteros\")\n",
    "\n",
    "\n",
    "print(vars)"
   ]
  },
  {
   "cell_type": "code",
   "execution_count": 2,
   "metadata": {},
   "outputs": [],
   "source": [
    "df = pd.read_csv('C:\\\\Users\\\\PC\\\\Desktop\\\\prueba_tecnica\\\\Examen IBSO_1_24-4-2024\\\\Prueba_Promociones.csv')"
   ]
  },
  {
   "cell_type": "code",
   "execution_count": 19,
   "metadata": {},
   "outputs": [
    {
     "data": {
      "text/html": [
       "<div>\n",
       "<style scoped>\n",
       "    .dataframe tbody tr th:only-of-type {\n",
       "        vertical-align: middle;\n",
       "    }\n",
       "\n",
       "    .dataframe tbody tr th {\n",
       "        vertical-align: top;\n",
       "    }\n",
       "\n",
       "    .dataframe thead th {\n",
       "        text-align: right;\n",
       "    }\n",
       "</style>\n",
       "<table border=\"1\" class=\"dataframe\">\n",
       "  <thead>\n",
       "    <tr style=\"text-align: right;\">\n",
       "      <th></th>\n",
       "      <th>SKU</th>\n",
       "      <th>Fecha</th>\n",
       "      <th>semana</th>\n",
       "      <th>Categoria</th>\n",
       "      <th>Piezas</th>\n",
       "      <th>Piezas Ajuste</th>\n",
       "      <th>Modelo</th>\n",
       "      <th>ABC</th>\n",
       "      <th>Uso</th>\n",
       "      <th>Precio</th>\n",
       "    </tr>\n",
       "  </thead>\n",
       "  <tbody>\n",
       "    <tr>\n",
       "      <th>0</th>\n",
       "      <td>SKU-1</td>\n",
       "      <td>2024-01-01</td>\n",
       "      <td>1</td>\n",
       "      <td>AUDIO</td>\n",
       "      <td>0.0</td>\n",
       "      <td>0</td>\n",
       "      <td>Prophet</td>\n",
       "      <td>A</td>\n",
       "      <td>AUDIFONOS</td>\n",
       "      <td>2398.37</td>\n",
       "    </tr>\n",
       "    <tr>\n",
       "      <th>1</th>\n",
       "      <td>SKU-1</td>\n",
       "      <td>2024-01-08</td>\n",
       "      <td>2</td>\n",
       "      <td>AUDIO</td>\n",
       "      <td>0.0</td>\n",
       "      <td>0</td>\n",
       "      <td>Prophet</td>\n",
       "      <td>A</td>\n",
       "      <td>AUDIFONOS</td>\n",
       "      <td>2398.37</td>\n",
       "    </tr>\n",
       "    <tr>\n",
       "      <th>2</th>\n",
       "      <td>SKU-1</td>\n",
       "      <td>2024-01-15</td>\n",
       "      <td>3</td>\n",
       "      <td>AUDIO</td>\n",
       "      <td>0.0</td>\n",
       "      <td>0</td>\n",
       "      <td>Prophet</td>\n",
       "      <td>A</td>\n",
       "      <td>AUDIFONOS</td>\n",
       "      <td>2398.37</td>\n",
       "    </tr>\n",
       "    <tr>\n",
       "      <th>3</th>\n",
       "      <td>SKU-1</td>\n",
       "      <td>2024-01-22</td>\n",
       "      <td>4</td>\n",
       "      <td>AUDIO</td>\n",
       "      <td>0.0</td>\n",
       "      <td>0</td>\n",
       "      <td>Prophet</td>\n",
       "      <td>A</td>\n",
       "      <td>AUDIFONOS</td>\n",
       "      <td>2398.37</td>\n",
       "    </tr>\n",
       "    <tr>\n",
       "      <th>4</th>\n",
       "      <td>SKU-1</td>\n",
       "      <td>2024-01-29</td>\n",
       "      <td>5</td>\n",
       "      <td>AUDIO</td>\n",
       "      <td>0.0</td>\n",
       "      <td>0</td>\n",
       "      <td>Prophet</td>\n",
       "      <td>A</td>\n",
       "      <td>AUDIFONOS</td>\n",
       "      <td>2398.37</td>\n",
       "    </tr>\n",
       "  </tbody>\n",
       "</table>\n",
       "</div>"
      ],
      "text/plain": [
       "     SKU      Fecha  semana Categoria  Piezas  Piezas Ajuste   Modelo ABC  \\\n",
       "0  SKU-1 2024-01-01       1     AUDIO     0.0              0  Prophet   A   \n",
       "1  SKU-1 2024-01-08       2     AUDIO     0.0              0  Prophet   A   \n",
       "2  SKU-1 2024-01-15       3     AUDIO     0.0              0  Prophet   A   \n",
       "3  SKU-1 2024-01-22       4     AUDIO     0.0              0  Prophet   A   \n",
       "4  SKU-1 2024-01-29       5     AUDIO     0.0              0  Prophet   A   \n",
       "\n",
       "         Uso   Precio  \n",
       "0  AUDIFONOS  2398.37  \n",
       "1  AUDIFONOS  2398.37  \n",
       "2  AUDIFONOS  2398.37  \n",
       "3  AUDIFONOS  2398.37  \n",
       "4  AUDIFONOS  2398.37  "
      ]
     },
     "execution_count": 19,
     "metadata": {},
     "output_type": "execute_result"
    }
   ],
   "source": [
    "df.head()"
   ]
  },
  {
   "cell_type": "code",
   "execution_count": 4,
   "metadata": {},
   "outputs": [],
   "source": [
    "df['Fecha'] = pd.to_datetime(df['Fecha'],dayfirst=True,format='mixed')"
   ]
  },
  {
   "cell_type": "code",
   "execution_count": 8,
   "metadata": {},
   "outputs": [],
   "source": [
    "df.insert(2,'semana',df['Fecha'].dt.isocalendar().week)"
   ]
  },
  {
   "cell_type": "code",
   "execution_count": null,
   "metadata": {},
   "outputs": [],
   "source": [
    "if not fecha_final:\n",
    "    first_filter = df[df['Fecha']>=fecha_final]\n",
    "    second_filter = first_filter[first_filter['modelo']!='real']\n",
    "    if uso:\n",
    "        third_filter = second_filter[second_filter['uso']==uso]\n",
    "        third_filter['piezas'] = third_filter['piezas'].apply(lambda x: x*percentage)\n",
    "    if not uso:\n",
    "        third_filter = second_filter[second_filter['Categoria']==categoria]\n",
    "        third_filter['piezas'] = third_filter['piezas'].apply(lambda x: x*percentage)\n",
    "    if not (uso & categoria):\n",
    "        second_filter['piezas'] = second_filter['piezas'].apply(lambda x: x*percentage)\n",
    "    \n",
    "\n",
    "if not fecha_inicio:\n",
    "    first_filter = df[df['Fecha']<=fecha_final]\n",
    "    second_filter = first_filter[first_filter['modelo']!='real']\n",
    "    if uso:\n",
    "        third_filter = second_filter[second_filter['uso']==uso]\n",
    "        third_filter['piezas'] = third_filter['piezas'].apply(lambda x: x*percentage)\n",
    "    if not uso:\n",
    "        third_filter = second_filter[second_filter['Categoria']==categoria]\n",
    "        third_filter['piezas'] = third_filter['piezas'].apply(lambda x: x*percentage)\n",
    "    if not (uso & categoria):\n",
    "        second_filter['piezas'] = second_filter['piezas'].apply(lambda x: x*percentage)\n",
    "\n",
    "\n",
    "if not (fecha_final & fecha_inicio):\n",
    "    first_filter = df[df['modelo']!='real']\n",
    "    if uso:\n",
    "        second_filter = first_filter[first_filter['uso']==uso]\n",
    "        second_filter['piezas'] = second_filter['piezas'].apply(lambda x: x*percentage)\n",
    "    if not uso:\n",
    "        second_filter = first_filter[first_filter['Categoria']==categoria]\n",
    "        second_filter['piezas'] = second_filter['piezas'].apply(lambda x: x*percentage)\n",
    "    if not (uso & categoria):\n",
    "        first_filter['piezas'] = first_filter['piezas'].apply(lambda x: x*percentage)"
   ]
  },
  {
   "cell_type": "markdown",
   "metadata": {},
   "source": [
    "### Ejercicio 4"
   ]
  },
  {
   "cell_type": "code",
   "execution_count": 2,
   "metadata": {},
   "outputs": [],
   "source": [
    "import requests\n",
    "import tkinter as tk\n",
    "from tkinter import ttk, messagebox\n",
    "\n",
    "# Reemplaza 'YOUR_API_KEY' con tu clave API del New York Times\n",
    "API_KEY = 'TIJaD2GVypRoQMYCd2kkOHZL0ds8O0qx'\n",
    "BASE_URL = 'https://api.nytimes.com/svc/books/v3/lists'\n",
    "\n",
    "def fetch_books(list_name, date=None, price=None, age_group=None):\n",
    "    url = f'{BASE_URL}/{list_name}.json'\n",
    "    params = {'api-key': API_KEY}\n",
    "    if date:\n",
    "        url = f'{BASE_URL}/{list_name}/{date}.json'\n",
    "    response = requests.get(url, params=params)\n",
    "    if response.status_code != 200:\n",
    "        messagebox.showerror(\"Error\", \"Error fetching data from API\")\n",
    "        return []\n",
    "    data = response.json()\n",
    "    results = []\n",
    "    for book in data['results']['books']:\n",
    "        if price and 'price' in book and not book['price'].startswith(price):\n",
    "            continue\n",
    "        if age_group and 'age_group' in book and book['age_group'] != age_group:\n",
    "            continue\n",
    "        results.append(book)\n",
    "    return results\n",
    "\n",
    "def display_books(books):\n",
    "    if not books:\n",
    "        messagebox.showinfo(\"No Results\", \"No books found matching the criteria\")\n",
    "        return\n",
    "    for book in books:\n",
    "        book_info = (\n",
    "            f\"Title: {book['title']}\\n\"\n",
    "            f\"Author: {book['author']}\\n\"\n",
    "            f\"Description: {book['description']}\\n\"\n",
    "            f\"Buy Link: {book.get('buy_links', [{}])[0].get('url', 'N/A')}\\n\"\n",
    "            f\"Review Link: {book.get('reviews', [{}])[0].get('url', 'N/A')}\\n\"\n",
    "            f\"Price: {book.get('price', 'N/A')}\\n\"\n",
    "            f\"Age Group: {book.get('age_group', 'N/A')}\\n\\n\"\n",
    "        )\n",
    "        text_area.insert(tk.END, book_info)\n",
    "    text_area.configure(state=tk.DISABLED)\n",
    "\n",
    "def on_search():\n",
    "    list_name = list_name_var.get()\n",
    "    date = date_var.get() if date_var.get() else None\n",
    "    price = price_var.get() if price_var.get() else None\n",
    "    age_group = age_group_var.get() if age_group_var.get() else None\n",
    "    books = fetch_books(list_name, date, price, age_group)\n",
    "    display_books(books)\n",
    "\n",
    "# Configuración de la interfaz gráfica\n",
    "root = tk.Tk()\n",
    "root.title(\"NYT Best Sellers\")\n",
    "\n",
    "frame = ttk.Frame(root, padding=\"10\")\n",
    "frame.grid(row=0, column=0, sticky=(tk.W, tk.E, tk.N, tk.S))\n",
    "\n",
    "list_name_var = tk.StringVar()\n",
    "date_var = tk.StringVar()\n",
    "price_var = tk.StringVar()\n",
    "age_group_var = tk.StringVar()\n",
    "\n",
    "ttk.Label(frame, text=\"List Name:\").grid(row=0, column=0, sticky=tk.W)\n",
    "ttk.Entry(frame, textvariable=list_name_var).grid(row=0, column=1)\n",
    "\n",
    "ttk.Label(frame, text=\"Date (YYYY-MM-DD):\").grid(row=1, column=0, sticky=tk.W)\n",
    "ttk.Entry(frame, textvariable=date_var).grid(row=1, column=1)\n",
    "\n",
    "ttk.Label(frame, text=\"Price (e.g., $20):\").grid(row=2, column=0, sticky=tk.W)\n",
    "ttk.Entry(frame, textvariable=price_var).grid(row=2, column=1)\n",
    "\n",
    "ttk.Label(frame, text=\"Age Group (e.g., 12-18):\").grid(row=3, column=0, sticky=tk.W)\n",
    "ttk.Entry(frame, textvariable=age_group_var).grid(row=3, column=1)\n",
    "\n",
    "ttk.Button(frame, text=\"Search\", command=on_search).grid(row=4, column=0, columnspan=2)\n",
    "\n",
    "text_area = tk.Text(frame, wrap=tk.WORD, width=80, height=20, state=tk.NORMAL)\n",
    "text_area.grid(row=5, column=0, columnspan=2)\n",
    "\n",
    "root.mainloop()"
   ]
  }
 ],
 "metadata": {
  "kernelspec": {
   "display_name": "Python 3",
   "language": "python",
   "name": "python3"
  },
  "language_info": {
   "codemirror_mode": {
    "name": "ipython",
    "version": 3
   },
   "file_extension": ".py",
   "mimetype": "text/x-python",
   "name": "python",
   "nbconvert_exporter": "python",
   "pygments_lexer": "ipython3",
   "version": "3.12.5"
  }
 },
 "nbformat": 4,
 "nbformat_minor": 2
}
